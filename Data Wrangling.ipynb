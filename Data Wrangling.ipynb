{
 "cells": [
  {
   "cell_type": "code",
   "execution_count": 1,
   "metadata": {},
   "outputs": [],
   "source": [
    "import numpy as np\n",
    "import pandas as pd"
   ]
  },
  {
   "cell_type": "markdown",
   "metadata": {},
   "source": [
    "Instructions :\n",
    "    \n",
    "    Step 1: In this first task, we will load the data to a numpy array and add a new record to it.\n",
    "    The path to the data set has been stored in the variable named path\n",
    "    Load the dataset and store it in a variable called data using np.genfromtxt()\n",
    "\n"
   ]
  },
  {
   "cell_type": "code",
   "execution_count": 37,
   "metadata": {},
   "outputs": [
    {
     "data": {
      "text/html": [
       "<div>\n",
       "<style scoped>\n",
       "    .dataframe tbody tr th:only-of-type {\n",
       "        vertical-align: middle;\n",
       "    }\n",
       "\n",
       "    .dataframe tbody tr th {\n",
       "        vertical-align: top;\n",
       "    }\n",
       "\n",
       "    .dataframe thead th {\n",
       "        text-align: right;\n",
       "    }\n",
       "</style>\n",
       "<table border=\"1\" class=\"dataframe\">\n",
       "  <thead>\n",
       "    <tr style=\"text-align: right;\">\n",
       "      <th></th>\n",
       "      <th>age</th>\n",
       "      <th>education-num</th>\n",
       "      <th>race</th>\n",
       "      <th>sex</th>\n",
       "      <th>capital-gain</th>\n",
       "      <th>capital-loss</th>\n",
       "      <th>hours-per-week</th>\n",
       "      <th>income</th>\n",
       "    </tr>\n",
       "  </thead>\n",
       "  <tbody>\n",
       "    <tr>\n",
       "      <th>count</th>\n",
       "      <td>1000.00000</td>\n",
       "      <td>1000.000000</td>\n",
       "      <td>1000.000000</td>\n",
       "      <td>1000.000000</td>\n",
       "      <td>1000.000000</td>\n",
       "      <td>1000.000000</td>\n",
       "      <td>1000.000000</td>\n",
       "      <td>1000.00000</td>\n",
       "    </tr>\n",
       "    <tr>\n",
       "      <th>mean</th>\n",
       "      <td>38.05100</td>\n",
       "      <td>10.084000</td>\n",
       "      <td>3.653000</td>\n",
       "      <td>0.671000</td>\n",
       "      <td>588.526000</td>\n",
       "      <td>92.960000</td>\n",
       "      <td>39.876000</td>\n",
       "      <td>0.23200</td>\n",
       "    </tr>\n",
       "    <tr>\n",
       "      <th>std</th>\n",
       "      <td>13.34948</td>\n",
       "      <td>2.548615</td>\n",
       "      <td>0.854003</td>\n",
       "      <td>0.470085</td>\n",
       "      <td>2618.537515</td>\n",
       "      <td>412.442337</td>\n",
       "      <td>12.018114</td>\n",
       "      <td>0.42232</td>\n",
       "    </tr>\n",
       "    <tr>\n",
       "      <th>min</th>\n",
       "      <td>17.00000</td>\n",
       "      <td>1.000000</td>\n",
       "      <td>0.000000</td>\n",
       "      <td>0.000000</td>\n",
       "      <td>0.000000</td>\n",
       "      <td>0.000000</td>\n",
       "      <td>1.000000</td>\n",
       "      <td>0.00000</td>\n",
       "    </tr>\n",
       "    <tr>\n",
       "      <th>25%</th>\n",
       "      <td>28.00000</td>\n",
       "      <td>9.000000</td>\n",
       "      <td>4.000000</td>\n",
       "      <td>0.000000</td>\n",
       "      <td>0.000000</td>\n",
       "      <td>0.000000</td>\n",
       "      <td>40.000000</td>\n",
       "      <td>0.00000</td>\n",
       "    </tr>\n",
       "    <tr>\n",
       "      <th>50%</th>\n",
       "      <td>36.00000</td>\n",
       "      <td>10.000000</td>\n",
       "      <td>4.000000</td>\n",
       "      <td>1.000000</td>\n",
       "      <td>0.000000</td>\n",
       "      <td>0.000000</td>\n",
       "      <td>40.000000</td>\n",
       "      <td>0.00000</td>\n",
       "    </tr>\n",
       "    <tr>\n",
       "      <th>75%</th>\n",
       "      <td>46.00000</td>\n",
       "      <td>12.000000</td>\n",
       "      <td>4.000000</td>\n",
       "      <td>1.000000</td>\n",
       "      <td>0.000000</td>\n",
       "      <td>0.000000</td>\n",
       "      <td>45.000000</td>\n",
       "      <td>0.00000</td>\n",
       "    </tr>\n",
       "    <tr>\n",
       "      <th>max</th>\n",
       "      <td>90.00000</td>\n",
       "      <td>16.000000</td>\n",
       "      <td>4.000000</td>\n",
       "      <td>1.000000</td>\n",
       "      <td>34095.000000</td>\n",
       "      <td>2415.000000</td>\n",
       "      <td>99.000000</td>\n",
       "      <td>1.00000</td>\n",
       "    </tr>\n",
       "  </tbody>\n",
       "</table>\n",
       "</div>"
      ],
      "text/plain": [
       "              age  education-num         race          sex  capital-gain  \\\n",
       "count  1000.00000    1000.000000  1000.000000  1000.000000   1000.000000   \n",
       "mean     38.05100      10.084000     3.653000     0.671000    588.526000   \n",
       "std      13.34948       2.548615     0.854003     0.470085   2618.537515   \n",
       "min      17.00000       1.000000     0.000000     0.000000      0.000000   \n",
       "25%      28.00000       9.000000     4.000000     0.000000      0.000000   \n",
       "50%      36.00000      10.000000     4.000000     1.000000      0.000000   \n",
       "75%      46.00000      12.000000     4.000000     1.000000      0.000000   \n",
       "max      90.00000      16.000000     4.000000     1.000000  34095.000000   \n",
       "\n",
       "       capital-loss  hours-per-week      income  \n",
       "count   1000.000000     1000.000000  1000.00000  \n",
       "mean      92.960000       39.876000     0.23200  \n",
       "std      412.442337       12.018114     0.42232  \n",
       "min        0.000000        1.000000     0.00000  \n",
       "25%        0.000000       40.000000     0.00000  \n",
       "50%        0.000000       40.000000     0.00000  \n",
       "75%        0.000000       45.000000     0.00000  \n",
       "max     2415.000000       99.000000     1.00000  "
      ]
     },
     "execution_count": 37,
     "metadata": {},
     "output_type": "execute_result"
    }
   ],
   "source": [
    "file='file.csv'\n",
    "data=pd.read_csv(file)\n",
    "data.shape\n",
    "data.head\n",
    "data.describe()"
   ]
  },
  {
   "cell_type": "code",
   "execution_count": 38,
   "metadata": {},
   "outputs": [
    {
     "name": "stdout",
     "output_type": "stream",
     "text": [
      "(8,)\n"
     ]
    },
    {
     "data": {
      "text/plain": [
       "(1, 8)"
      ]
     },
     "execution_count": 38,
     "metadata": {},
     "output_type": "execute_result"
    }
   ],
   "source": [
    "new_record=np.array([50,  9,  4,  1,  0,  0, 40,  0])\n",
    "print(new_record.shape)\n",
    "new2=new_record.reshape(1,-1)\n",
    "new2.shape"
   ]
  },
  {
   "cell_type": "code",
   "execution_count": 4,
   "metadata": {},
   "outputs": [
    {
     "data": {
      "text/plain": [
       "(1001, 8)"
      ]
     },
     "execution_count": 4,
     "metadata": {},
     "output_type": "execute_result"
    }
   ],
   "source": [
    "census=np.concatenate((data,new2))\n",
    "type(census)\n",
    "census.shape"
   ]
  },
  {
   "cell_type": "markdown",
   "metadata": {},
   "source": [
    "\n",
    "\n",
    "    Create four different arrays by subsetting 'census' array by Race column(Race is the column with index 2) and save them in 'race_0','race_1', 'race_2', 'race_3' and 'race_4' respectively(Meaning: Store the array where 'race'column has value 0 in 'race_0', so on and so forth)\n",
    "\n",
    "    Store the length of the above created arrays in 'len_0', 'len_1','len_2', 'len_3' and 'len_4' respectively\n",
    "\n",
    "    Find out which is the race with the minimum no. of citizens\n",
    "\n",
    "    Store the number associated with the minority race in a variable called 'minority_race'(For eg: if \"len(race_5)\" is the minimum, store 5 in 'minority_race' because that is the index of the race having the least no. of citizens )\n"
   ]
  },
  {
   "cell_type": "code",
   "execution_count": 5,
   "metadata": {},
   "outputs": [],
   "source": [
    "data_new=census[:,2]"
   ]
  },
  {
   "cell_type": "code",
   "execution_count": 6,
   "metadata": {},
   "outputs": [
    {
     "data": {
      "text/plain": [
       "4"
      ]
     },
     "execution_count": 6,
     "metadata": {},
     "output_type": "execute_result"
    }
   ],
   "source": [
    "data_new[0]"
   ]
  },
  {
   "cell_type": "code",
   "execution_count": 7,
   "metadata": {},
   "outputs": [
    {
     "data": {
      "text/plain": [
       "True"
      ]
     },
     "execution_count": 7,
     "metadata": {},
     "output_type": "execute_result"
    }
   ],
   "source": [
    "0 in data_new"
   ]
  },
  {
   "cell_type": "code",
   "execution_count": 8,
   "metadata": {},
   "outputs": [],
   "source": [
    "ittr=len(data_new)"
   ]
  },
  {
   "cell_type": "code",
   "execution_count": 9,
   "metadata": {},
   "outputs": [],
   "source": [
    "race_0=[]\n",
    "race_1=[]\n",
    "\n",
    "\n",
    "race_4=[]\n",
    "\n",
    "race_4=[]\n",
    "for i in range(0,ittr):\n",
    "    if data_new[i] == 0:\n",
    "        race_0.append(i)\n",
    "    elif data_new[i] == 4:\n",
    "        race_4.append(i)\n",
    "    elif data_new[i] == 1:\n",
    "        race_1.append(i)\n",
    "        "
   ]
  },
  {
   "cell_type": "code",
   "execution_count": 10,
   "metadata": {},
   "outputs": [
    {
     "name": "stdout",
     "output_type": "stream",
     "text": [
      "The race 0 is [15, 212, 226, 447, 516, 565, 596, 607, 903, 940]\n",
      "The race 1 is [11, 14, 27, 93, 139, 152, 162, 163, 213, 255, 265, 297, 301, 304, 311, 434, 455, 591, 652, 655, 668, 731, 873, 892, 916, 917, 968]\n",
      "The race 4 is [0, 1, 2, 5, 7, 8, 9, 12, 16, 17, 18, 19, 20, 23, 24, 25, 26, 28, 29, 30, 32, 33, 35, 36, 37, 38, 39, 40, 41, 42, 43, 44, 46, 47, 48, 49, 51, 52, 53, 54, 55, 56, 57, 58, 59, 60, 61, 62, 63, 64, 65, 66, 67, 68, 69, 70, 72, 73, 74, 75, 76, 77, 78, 79, 80, 81, 82, 83, 84, 85, 86, 87, 88, 89, 90, 91, 94, 95, 96, 97, 98, 100, 101, 102, 103, 104, 105, 106, 107, 108, 109, 110, 111, 112, 113, 114, 115, 116, 118, 119, 120, 121, 123, 125, 126, 127, 128, 129, 130, 131, 132, 133, 135, 136, 137, 138, 140, 141, 142, 143, 144, 146, 147, 148, 149, 150, 151, 153, 154, 155, 156, 158, 160, 161, 164, 165, 166, 167, 168, 169, 170, 171, 172, 173, 174, 175, 178, 179, 181, 183, 184, 186, 187, 188, 189, 191, 193, 194, 195, 196, 197, 198, 199, 200, 201, 202, 203, 204, 205, 207, 208, 209, 211, 214, 216, 217, 218, 219, 220, 221, 224, 225, 227, 228, 229, 232, 234, 235, 236, 237, 238, 239, 240, 241, 242, 243, 244, 245, 246, 247, 248, 249, 250, 253, 254, 256, 257, 258, 259, 260, 261, 262, 263, 264, 266, 267, 268, 269, 270, 271, 272, 273, 274, 276, 277, 278, 279, 280, 281, 283, 284, 285, 286, 287, 288, 289, 290, 291, 292, 293, 295, 296, 298, 299, 300, 302, 303, 305, 306, 307, 308, 309, 310, 314, 315, 316, 317, 318, 319, 320, 321, 322, 323, 324, 325, 327, 328, 329, 331, 332, 333, 334, 335, 336, 337, 340, 341, 342, 343, 345, 346, 347, 348, 349, 350, 351, 352, 353, 354, 355, 357, 358, 359, 360, 361, 362, 363, 364, 365, 366, 367, 368, 369, 370, 371, 372, 375, 376, 377, 378, 379, 380, 381, 382, 383, 384, 385, 386, 387, 388, 389, 390, 391, 392, 393, 394, 395, 396, 397, 398, 399, 400, 401, 402, 403, 405, 406, 407, 408, 409, 412, 413, 414, 415, 416, 417, 419, 420, 421, 422, 423, 424, 425, 426, 427, 428, 429, 430, 431, 432, 433, 435, 437, 438, 439, 440, 441, 442, 443, 444, 445, 448, 449, 451, 452, 454, 456, 458, 459, 460, 462, 463, 464, 465, 466, 467, 468, 469, 470, 471, 472, 473, 474, 475, 476, 477, 478, 479, 480, 481, 482, 483, 486, 487, 488, 489, 490, 491, 492, 493, 494, 495, 496, 497, 498, 499, 500, 501, 502, 503, 504, 506, 507, 509, 510, 512, 513, 514, 515, 517, 518, 519, 520, 521, 523, 524, 525, 526, 527, 528, 529, 531, 533, 534, 535, 537, 538, 540, 541, 542, 543, 544, 545, 546, 547, 548, 549, 550, 551, 552, 555, 556, 557, 558, 559, 560, 561, 562, 564, 566, 567, 568, 569, 570, 571, 572, 573, 574, 575, 576, 577, 578, 579, 580, 581, 582, 583, 584, 585, 586, 587, 588, 589, 590, 592, 593, 594, 595, 597, 598, 599, 600, 601, 602, 603, 604, 606, 609, 610, 611, 612, 613, 614, 615, 617, 618, 619, 620, 623, 624, 626, 627, 628, 629, 632, 634, 635, 636, 637, 638, 639, 640, 641, 642, 643, 644, 645, 646, 647, 648, 649, 650, 651, 653, 654, 656, 657, 658, 659, 661, 662, 663, 664, 665, 666, 669, 670, 671, 672, 673, 674, 675, 676, 677, 678, 679, 680, 681, 682, 684, 685, 686, 687, 688, 689, 690, 692, 693, 694, 695, 696, 697, 698, 699, 700, 701, 702, 703, 704, 705, 708, 709, 710, 712, 713, 714, 716, 717, 718, 719, 720, 721, 722, 723, 724, 725, 726, 727, 728, 729, 730, 732, 733, 735, 737, 739, 740, 741, 742, 743, 744, 745, 746, 749, 750, 751, 752, 753, 754, 755, 756, 757, 758, 760, 761, 762, 763, 764, 765, 766, 767, 768, 769, 770, 771, 772, 773, 774, 775, 776, 777, 778, 779, 780, 781, 782, 783, 786, 787, 788, 789, 790, 791, 792, 793, 794, 796, 798, 799, 800, 802, 803, 804, 805, 806, 807, 808, 809, 810, 812, 813, 814, 815, 816, 817, 818, 819, 820, 821, 822, 823, 824, 825, 826, 827, 828, 829, 830, 831, 832, 833, 834, 835, 836, 837, 838, 839, 840, 841, 842, 843, 844, 845, 846, 847, 848, 849, 850, 851, 852, 853, 854, 855, 856, 857, 858, 859, 860, 861, 862, 863, 864, 865, 866, 867, 868, 869, 870, 871, 872, 875, 877, 878, 879, 880, 881, 882, 883, 884, 885, 886, 887, 889, 891, 893, 894, 895, 896, 897, 898, 899, 900, 901, 902, 904, 905, 906, 908, 909, 910, 911, 912, 913, 915, 918, 919, 920, 921, 922, 924, 925, 926, 927, 928, 929, 930, 931, 932, 933, 934, 935, 936, 937, 938, 939, 942, 943, 944, 946, 947, 948, 949, 950, 951, 953, 954, 955, 956, 957, 958, 959, 960, 961, 962, 963, 964, 965, 966, 967, 969, 970, 971, 972, 973, 974, 975, 976, 977, 979, 980, 981, 983, 984, 985, 987, 988, 989, 990, 991, 992, 993, 994, 995, 996, 997, 998, 999, 1000]\n"
     ]
    }
   ],
   "source": [
    "print(f\"The race 0 is {race_0}\")\n",
    "print(f\"The race 1 is {race_1}\")\n",
    "print(f\"The race 4 is {race_4}\")"
   ]
  },
  {
   "cell_type": "code",
   "execution_count": 11,
   "metadata": {},
   "outputs": [
    {
     "name": "stdout",
     "output_type": "stream",
     "text": [
      "10\n",
      "27\n",
      "848\n"
     ]
    }
   ],
   "source": [
    "print(len(race_0))\n",
    "print(len(race_1))\n",
    "print(len(race_4))"
   ]
  },
  {
   "cell_type": "markdown",
   "metadata": {},
   "source": [
    "\n",
    "\n",
    "    Create a new subset array called 'senior_citizens' by filtering 'census' according to age>60 (age is the column with index 0)\n",
    "\n",
    "    Add all the working hours(working hours is the column with index 6) of 'senior_citizens' and store it in a variable called 'working_hours_sum'\n",
    "\n",
    "    Find the length of 'senior_citizens' and store it in a variable called 'senior_citizens_len'\n",
    "\n",
    "    Finally find the average working hours of the senior citizens by dividing 'working_hours_sum' by 'senior_citizens_len' and store it in a variable called 'avg_working hours'.\n",
    "\n",
    "    Print 'avg_working_hours' and see if the govt. policy is followed.\n"
   ]
  },
  {
   "cell_type": "code",
   "execution_count": 22,
   "metadata": {},
   "outputs": [],
   "source": [
    "age=census[:,0]"
   ]
  },
  {
   "cell_type": "code",
   "execution_count": 152,
   "metadata": {},
   "outputs": [],
   "source": [
    "senior_citizen=[]\n",
    "for i in range(0,ittr):\n",
    "    if age[i] > 60:\n",
    "        senior_citizen.append(age[i])"
   ]
  },
  {
   "cell_type": "code",
   "execution_count": 153,
   "metadata": {},
   "outputs": [],
   "source": [
    "senior_citizen_len=len(senior_citizen)"
   ]
  },
  {
   "cell_type": "code",
   "execution_count": 154,
   "metadata": {},
   "outputs": [],
   "source": [
    "hours=census[:,6]"
   ]
  },
  {
   "cell_type": "code",
   "execution_count": 155,
   "metadata": {},
   "outputs": [
    {
     "data": {
      "text/plain": [
       "array([40., 13., 40., ..., 40., 50., 40.])"
      ]
     },
     "execution_count": 155,
     "metadata": {},
     "output_type": "execute_result"
    }
   ],
   "source": [
    "hours"
   ]
  },
  {
   "cell_type": "code",
   "execution_count": 156,
   "metadata": {},
   "outputs": [],
   "source": [
    "working_hours=[]\n",
    "for i in range(0,ittr):\n",
    "    if age[i] > 60:\n",
    "        working_hours.append(hours[i])"
   ]
  },
  {
   "cell_type": "code",
   "execution_count": 157,
   "metadata": {},
   "outputs": [
    {
     "data": {
      "text/plain": [
       "1917.0"
      ]
     },
     "execution_count": 157,
     "metadata": {},
     "output_type": "execute_result"
    }
   ],
   "source": [
    "sum(working_hours) # When working with lists"
   ]
  },
  {
   "cell_type": "code",
   "execution_count": 158,
   "metadata": {},
   "outputs": [],
   "source": [
    "working_hours=np.array((working_hours))"
   ]
  },
  {
   "cell_type": "code",
   "execution_count": 159,
   "metadata": {},
   "outputs": [],
   "source": [
    "working_hours_sum=working_hours.sum()   #When working with arrrays"
   ]
  },
  {
   "cell_type": "code",
   "execution_count": 160,
   "metadata": {},
   "outputs": [
    {
     "name": "stdout",
     "output_type": "stream",
     "text": [
      "31.42622950819672\n"
     ]
    }
   ],
   "source": [
    "avg_working_hours=working_hours_sum/senior_citizen_len\n",
    "print(avg_working_hours)"
   ]
  },
  {
   "cell_type": "markdown",
   "metadata": {},
   "source": [
    "Step 5: Our parents have repeatedly told us that we need to study well in order to get a good(read: higher-paying) job. Let's see whether the higher educated people have better pay in general.\n",
    "\n",
    "    Create two new subset arrays called 'high' and 'low' by filtering 'census' according to education-num>10 and education-num<=10 (education-num is the column with index 1) respectively.\n",
    "\n",
    "    Find the mean of income column(income is the column with index 7) of 'high' array and store it in 'avg_pay_high'. Do the same for 'low' array and store it's mean in 'avg_pay_low'.\n",
    "\n",
    "Note: - Since income is a binary variable, mean() here represents the percentage of ppl having annual income higher than 50K. - You could have used \"mean()\" function to solve the task 'Young Country? Old Country?' as well.\n",
    "\n",
    "    Compare 'avg_pay_high' and 'avg_pay_low' and see whether there is truth in better education leads to better pay\n",
    "\n",
    "Test Cases: The correct value in 'avg_pay_high' should be 0.43 when rounded upto 2 decimal places. The correct value in 'avg_pay_low' should be 0.14 when rounded upto 2 decimal places."
   ]
  },
  {
   "cell_type": "code",
   "execution_count": 162,
   "metadata": {},
   "outputs": [],
   "source": [
    "high=census[census[:,1]>10]"
   ]
  },
  {
   "cell_type": "code",
   "execution_count": 167,
   "metadata": {},
   "outputs": [],
   "source": [
    "low=census[census[:,1]<=10]"
   ]
  },
  {
   "cell_type": "code",
   "execution_count": 172,
   "metadata": {},
   "outputs": [
    {
     "data": {
      "text/plain": [
       "(327, 8)"
      ]
     },
     "execution_count": 172,
     "metadata": {},
     "output_type": "execute_result"
    }
   ],
   "source": [
    "high.shape"
   ]
  },
  {
   "cell_type": "markdown",
   "metadata": {},
   "source": [
    "# ANOTHER WAY"
   ]
  },
  {
   "cell_type": "code",
   "execution_count": 184,
   "metadata": {},
   "outputs": [],
   "source": [
    "avg_pay_high = high[:,7].mean().round(2)"
   ]
  },
  {
   "cell_type": "code",
   "execution_count": 185,
   "metadata": {},
   "outputs": [],
   "source": [
    "avg_pay_low = low[:,7].mean().round(2)"
   ]
  },
  {
   "cell_type": "code",
   "execution_count": 186,
   "metadata": {},
   "outputs": [
    {
     "name": "stdout",
     "output_type": "stream",
     "text": [
      "Avg pay high is0.43\n",
      "Avg pay low is0.14\n"
     ]
    }
   ],
   "source": [
    "print(\"Avg pay high is\"+str(avg_pay_high))\n",
    "print(\"Avg pay low is\"+str(avg_pay_low))"
   ]
  },
  {
   "cell_type": "code",
   "execution_count": null,
   "metadata": {},
   "outputs": [],
   "source": []
  },
  {
   "cell_type": "markdown",
   "metadata": {},
   "source": [
    "# FULL ANOTHER WAY CODING"
   ]
  },
  {
   "cell_type": "code",
   "execution_count": 161,
   "metadata": {},
   "outputs": [],
   "source": [
    "# # Importing header files\n",
    "# import numpy as np\n",
    "\n",
    "# #New record\n",
    "# new_record=[[50,  9,  4,  1,  0,  0, 40,  0]]\n",
    "\n",
    "# #Code starts here\n",
    "# file='file.csv'\n",
    "# #Loading data file and saving it into a new numpy array \n",
    "# data = np.genfromtxt(file, delimiter=\",\", skip_header=1)\n",
    "\n",
    "# print(data.shape)\n",
    "\n",
    "# #Concatenating the new record to the existing numpy array\n",
    "# census=np.concatenate((data, new_record),axis = 0)\n",
    "\n",
    "# print(census.shape)\n",
    "\n",
    "# #Subsetting the array to include only 'Age' column\n",
    "# age=census[:,0]\n",
    "\n",
    "# #Finding the max value of age\n",
    "# max_age=age.max()\n",
    "# print(\"Max Age= \",max_age)\n",
    "# print(age)\n",
    "\n",
    "# #Find the min value of age\n",
    "# min_age=age.min()\n",
    "# print(\"Min Age= \",min_age)\n",
    "\n",
    "# #Find the mean of age\n",
    "# age_mean=age.mean()\n",
    "# print(\"Age Average= \", age_mean)\n",
    "\n",
    "# #Find the standard deviation of age\n",
    "# age_std=age.std()\n",
    "# print(\"Age Standard Deviation= \",age_std)\n",
    "\n",
    "# #Creating new subsets based on 'Age'\n",
    "# race_0=census[census[:,2]==0]\n",
    "# race_1=census[census[:,2]==1]\n",
    "# race_2=census[census[:,2]==2]\n",
    "# race_3=census[census[:,2]==3]\n",
    "# race_4=census[census[:,2]==4]\n",
    "\n",
    "\n",
    "# #Finding the length of the above created subsets\n",
    "# len_0=len(race_0)\n",
    "# len_1=len(race_1)\n",
    "# len_2=len(race_2)\n",
    "# len_3=len(race_3)\n",
    "# len_4=len(race_4)\n",
    "\n",
    "# #Printing the length of the above created subsets\n",
    "# print('Race_0: ', len_0)\n",
    "# print('Race_1: ', len_1)\n",
    "# print('Race_2: ', len_2)\n",
    "# print('Race_3: ', len_3)\n",
    "# print('Race_4: ', len_4)\n",
    "\n",
    "# #Storing the different race lengths with appropriate indexes\n",
    "# race_list=[len_0, len_1,len_2, len_3, len_4]\n",
    "\n",
    "# #Storing the race with minimum length into a variable \n",
    "# minority_race=race_list.index(min(race_list))\n",
    "\n",
    "# #Subsetting the array based on the age \n",
    "# senior_citizens=census[census[:,0]>60]\n",
    "# #Calculating the sum of all the values of array\n",
    "# working_hours_sum=senior_citizens.sum(axis=0)[6]\n",
    "# print(\"dd\"+str(working_hours_sum))\n",
    "# #Finding the length of the array\n",
    "# senior_citizens_len=len(senior_citizens)\n",
    "\n",
    "# #Finding the average working hours\n",
    "# avg_working_hours=working_hours_sum/senior_citizens_len\n",
    "# print(avg_working_hours)\n",
    "# #Printing the average working hours\n",
    "\n",
    "# #Creating an array based on 'education' column\n",
    "# high=census[census[:,1]>10]\n",
    "\n",
    "# #Finding the average pay\n",
    "# avg_pay_high=high[:,7].mean()\n",
    "\n",
    "# #Printing the average pay\n",
    "# print(avg_pay_high)\n",
    "\n",
    "# #Creating an array based on 'education' column\n",
    "# low=census[census[:,1]<=10]\n",
    "\n",
    "# #Finding the average pay\n",
    "# avg_pay_low=low[:,7].mean()\n",
    "\n",
    "# #Printing the average pay\n",
    "# print(avg_pay_low)\n",
    "# #Code ends here"
   ]
  }
 ],
 "metadata": {
  "kernelspec": {
   "display_name": "Python 3",
   "language": "python",
   "name": "python3"
  },
  "language_info": {
   "codemirror_mode": {
    "name": "ipython",
    "version": 3
   },
   "file_extension": ".py",
   "mimetype": "text/x-python",
   "name": "python",
   "nbconvert_exporter": "python",
   "pygments_lexer": "ipython3",
   "version": "3.7.6"
  }
 },
 "nbformat": 4,
 "nbformat_minor": 4
}
